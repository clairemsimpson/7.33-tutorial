{
 "cells": [
  {
   "cell_type": "markdown",
   "metadata": {},
   "source": [
    "# 7.33/6.049J Python Review"
   ]
  },
  {
   "cell_type": "markdown",
   "metadata": {},
   "source": [
    "### Introduction\n",
    "In 7.33, some problems in the problem sets require writing code. You can do this in any language you like, but if you don't already have a preference, I recommend Python. Today, we're working in Jupyter Notebooks, which allows you to run cells individually. \n",
    "\n",
    "When we run a cell with code in it (the greyish blocks), each line is considered to be a Python statement or part of one, unless it comes after a # (anything after # is a comment). Try running the cell below by clicking on it, then pressing Shift + Return, or pressing the right arrow button on the toolbar above. Feel free to experiment with modifying the code included here (and anywhere in the notebook), or inserting new cells (Insert -> Insert Cell Below on the menu or the + on the toolbar) and writing your own."
   ]
  },
  {
   "cell_type": "code",
   "execution_count": null,
   "metadata": {
    "collapsed": false
   },
   "outputs": [],
   "source": [
    "print(\"Hello World!\")"
   ]
  },
  {
   "cell_type": "markdown",
   "metadata": {},
   "source": [
    "### Fundamental Data Types\n",
    "\n",
    "The fundamental data types in Python (that are potentially relevant to your work) are:\n",
    "\n",
    "* Integers (e.g. 2, 24005, -3)\n",
    "* Floats (e.g. 2.343)\n",
    "* Booleans (True, False)\n",
    "\n",
    "You can store and modify and work with these in many different ways. For example, you can store any of them as variables:"
   ]
  },
  {
   "cell_type": "code",
   "execution_count": null,
   "metadata": {
    "collapsed": true
   },
   "outputs": [],
   "source": [
    "w_AA = 1\n",
    "w_Aa = 0.8\n",
    "w_aa = 0.6\n",
    "p = 0.5"
   ]
  },
  {
   "cell_type": "markdown",
   "metadata": {},
   "source": [
    "With floats and integers, you can perform arithmetic. Operators include +, -, *, /, and *\\** (power).\n",
    "\n",
    "##### Exercise 1:\n",
    "\n",
    "Use the above variables to calculate the average fitness of the described population by writing a Python expression. Replace \"pass\" with your code. (Next: can you calculate *p'*?)"
   ]
  },
  {
   "cell_type": "code",
   "execution_count": null,
   "metadata": {
    "collapsed": true
   },
   "outputs": [],
   "source": [
    "pass"
   ]
  },
  {
   "cell_type": "markdown",
   "metadata": {},
   "source": [
    "With Booleans, operators include and, or, [and] not. One way to use Booleans is by comparing two numbers with operators like >, <, ==, != (not equal), <=, >=. Examples (and try some of your own!):"
   ]
  },
  {
   "cell_type": "code",
   "execution_count": null,
   "metadata": {
    "collapsed": false
   },
   "outputs": [],
   "source": [
    "print(w_AA > w_aa)\n",
    "print(not w_AA > w_aa)\n",
    "print(w_AA > w_aa and w_AA > w_Aa)"
   ]
  },
  {
   "cell_type": "markdown",
   "metadata": {},
   "source": [
    "### Compound Types\n",
    "\n",
    "Compound types include strings, lists, tuples, and dictionaries. \n",
    "\n",
    "With strings, you can add them together, replace individual characters in them, get their length, and much more (see documentation at https://docs.python.org/2.4/lib/string-methods.html for some). You can also index into them or splice them (note: the first character is at the zeroeth index). Examples:"
   ]
  },
  {
   "cell_type": "code",
   "execution_count": null,
   "metadata": {
    "collapsed": false
   },
   "outputs": [],
   "source": [
    "a = \"Half of \"\n",
    "b = \"a phrase\"\n",
    "c = a + b\n",
    "\n",
    "print(c)\n",
    "print(len(c))\n",
    "print(c.replace(\" \",\"_\"))\n",
    "print(c[0])\n",
    "print(c[0:4])"
   ]
  },
  {
   "cell_type": "markdown",
   "metadata": {},
   "source": [
    "Lists work very similarly to strings, except the elements can be many different types. You can still index into them, get their length, add them, and more."
   ]
  },
  {
   "cell_type": "code",
   "execution_count": null,
   "metadata": {
    "collapsed": false
   },
   "outputs": [],
   "source": [
    "example_list = [5, \"eight\"]\n",
    "example_list.append([\"a second list?\",\"within the list??\"]) #note that this modifies the list instead of returning a new list\n",
    "                                                            #what changes if you change \"append\" to \"extend\"?\n",
    "print(example_list)\n",
    "print(len(example_list))\n",
    "print(example_list[1])\n",
    "\n",
    "example_list[1] = \"nine\" #lists are also zero-indexed\n",
    "print(example_list)"
   ]
  },
  {
   "cell_type": "markdown",
   "metadata": {},
   "source": [
    "Tuples are similar to lists, but they are inside parentheses and they are immutable, which means they cannot be modified. For example, running the cell below will give you an error:"
   ]
  },
  {
   "cell_type": "code",
   "execution_count": null,
   "metadata": {
    "collapsed": false
   },
   "outputs": [],
   "source": [
    "example_tuple = (1, 2, 3)\n",
    "print(example_tuple[2]) #this is fine\n",
    "example_tuple[2] = 4 #this will not work!"
   ]
  },
  {
   "cell_type": "markdown",
   "metadata": {},
   "source": [
    "Dictionaries are great for efficiently looking up values associated with a key. Example:"
   ]
  },
  {
   "cell_type": "code",
   "execution_count": null,
   "metadata": {
    "collapsed": false
   },
   "outputs": [],
   "source": [
    "order_dictionary = {\"bat\": \"Chiroptera\", \"salamander\": \"Urodela\"}\n",
    "order_dictionary[\"toad\"] = \"Anura\"\n",
    "\n",
    "print(order_dictionary[\"bat\"])"
   ]
  },
  {
   "cell_type": "markdown",
   "metadata": {},
   "source": [
    "### Control Flow\n",
    "\n",
    "Conditional statements will check a condition before running a block of code. The first statement should begin with if [some Boolean statement]. The next statement could use elif instead, and in that case would only run if the first conditional wasn't met. At the end of a block of conditionals, you can use an else statement to catch anything that didn't meet previous conditions. Try modifying x and y below to get an intuition for how this works. What would happen if all the statements started with \"if\"?"
   ]
  },
  {
   "cell_type": "code",
   "execution_count": null,
   "metadata": {
    "collapsed": false
   },
   "outputs": [],
   "source": [
    "x = 5\n",
    "y = 7\n",
    "\n",
    "if x == y:\n",
    "    print(\"They're equal!\")\n",
    "elif x > y:\n",
    "    print(\"x > y\")\n",
    "elif y - x == 2:\n",
    "    print(\"this is an odd addition to this block of conditionals\")\n",
    "else:\n",
    "    print (\"x < y\")"
   ]
  },
  {
   "cell_type": "markdown",
   "metadata": {},
   "source": [
    "Loops are a very useful tool, allowing you to run a block of code many times. For-loops are run for a set number of iterations (although you can use break statements to stop the loop early) and while-loops continue while a Boolean condition is met. You can run a for-loop over a range of integers or elements in a list/string/tuple/keys in a dictionary/other similar things. Nesting loops is sometimes helpful."
   ]
  },
  {
   "cell_type": "code",
   "execution_count": null,
   "metadata": {
    "collapsed": false
   },
   "outputs": [],
   "source": [
    "example_list = [\"one\", \"two\", \"three\"]\n",
    "\n",
    "print(\"First for-loop:\")\n",
    "for elt in example_list:\n",
    "    print(elt)\n",
    "    \n",
    "print(\"\\nSecond for-loop:\")\n",
    "for elt in range(len(example_list)):\n",
    "    print(elt)\n",
    "    \n",
    "print(\"\\nWhile-loop\")\n",
    "number = 0\n",
    "while number < 5:\n",
    "    print(number)\n",
    "    number += 1 #will increase number by 1"
   ]
  },
  {
   "cell_type": "markdown",
   "metadata": {},
   "source": [
    "### Functions\n",
    "\n",
    "Functions can be a useful way to organize code. See below for an example of the syntax of defining a function."
   ]
  },
  {
   "cell_type": "code",
   "execution_count": null,
   "metadata": {
    "collapsed": false
   },
   "outputs": [],
   "source": [
    "def add_2(n):\n",
    "    answer = n + 2\n",
    "    return answer\n",
    "\n",
    "print(add_2(1.5))"
   ]
  },
  {
   "cell_type": "markdown",
   "metadata": {},
   "source": [
    "##### Exercise 2\n",
    "\n",
    "Write a function which returns the nth Fibonacci number, using the material above on arithmetic, control flow, and functions. \n",
    "\n",
    "Example output:\n",
    "* fib(1) = 1\n",
    "* fib(2) = 1\n",
    "* fib(3) = 2\n",
    "* fib(4) = 3\n",
    "\n",
    "and so on. There are a couple of ways to implement this: namely, using iterative loops and using recursion (referencing *fib* inside *fib*). If you finish writing one implementation with some time to spare, consider trying to implement the other. Check the output of your function(s) to assess correctness."
   ]
  },
  {
   "cell_type": "code",
   "execution_count": null,
   "metadata": {
    "collapsed": true
   },
   "outputs": [],
   "source": [
    "def fib(n):\n",
    "    pass"
   ]
  },
  {
   "cell_type": "markdown",
   "metadata": {},
   "source": [
    "### Useful Modules\n",
    "\n",
    "Many useful functions exist within modules. These can be invaluable for scientific computing, graphing, getting random numbers, and pretty much anything else you can think of. Potentially useful for this class are:"
   ]
  },
  {
   "cell_type": "code",
   "execution_count": null,
   "metadata": {
    "collapsed": false
   },
   "outputs": [],
   "source": [
    "import numpy\n",
    "print(numpy.sqrt(9))\n",
    "print(numpy.random.normal(0, 1, 5)) #5 numbers randomly drawn from a standard normal distribution with mean 0, stdev 1\n",
    "#and so much more! many distributions, statistical tests. also resources for working with polynomials and arrays."
   ]
  },
  {
   "cell_type": "code",
   "execution_count": null,
   "metadata": {
    "collapsed": false
   },
   "outputs": [],
   "source": [
    "import matplotlib.pyplot as plt\n",
    "%matplotlib inline\n",
    "\n",
    "plt.scatter(range(1,6),[1, 4, 9, 16, 25]) #try replacing 'scatter' with 'plot'\n",
    "plt.xlabel('x')\n",
    "plt.ylabel('x squared')\n",
    "plt.title('example plot needs example title')\n",
    "plt.show()"
   ]
  },
  {
   "cell_type": "code",
   "execution_count": null,
   "metadata": {
    "collapsed": false
   },
   "outputs": [],
   "source": [
    "distribution = numpy.random.normal(0, 1, 1000)\n",
    "\n",
    "plt.hist(distribution)\n",
    "plt.xlabel(\"value\")\n",
    "plt.ylabel(\"count\")\n",
    "plt.title(\"histogram of 1000 values randomly sampled from a normal distribution\")\n",
    "plt.show()\n",
    "\n",
    "#Note that both plots include axis labels and titles - this is important for plots you include in your problem set solutions!"
   ]
  },
  {
   "cell_type": "markdown",
   "metadata": {},
   "source": [
    "The modules cited above have been well-documented on the web, and checking the documentation for the functions you use in your problem sets is a generally good idea. (For example, if you need to plot two lines and add a legend, how would you figure out how to do that?)"
   ]
  },
  {
   "cell_type": "markdown",
   "metadata": {},
   "source": [
    "### Putting It All Together\n",
    "\n",
    "Good coding practices can make solving a problem much easier. These may include planning out your code before writing it, writing pseudocode, writing test cases, and adding comments to any lines or blocks that are not immediately obvious. This may help with debugging and re-running your code. There are many nuances to Python syntax and data types and statements that are not covered in this tutorial, so if you are running into errors or bugs or roadblocks, check out the Python documentation and official tutorials/FAQ (https://docs.python.org/3/) or search your error message on StackOverflow or come to office hours. \n",
    "\n",
    "For complicated programs, a tried and true (and brute-force) debugging technique is inserting print statements throughout your code so you can find where the error is.\n",
    "\n",
    "If you're stuck with a problem, Polya's Problem Solving Techniques (https://math.berkeley.edu/~gmelvin/polya.pdf) can be useful. The basic idea is to approach the problem in four steps:\n",
    "\n",
    "* Understand the problem\n",
    "* Devise a plan\n",
    "* Carry out the plan\n",
    "* Look back\n",
    "\n",
    "##### Exercise 3\n",
    "\n",
    "Using the function *fib* you wrote previously, plot the first 15 Fibonacci numbers by n. Remember to add labels and a title to your plot."
   ]
  },
  {
   "cell_type": "code",
   "execution_count": null,
   "metadata": {
    "collapsed": true
   },
   "outputs": [],
   "source": [
    "pass"
   ]
  },
  {
   "cell_type": "markdown",
   "metadata": {},
   "source": [
    "##### Exercise 4\n",
    "\n",
    "Write a function *translate* that takes in a DNA sequence string and returns the sequence that includes and comes after the letters \"ATG\" (also as a string). If ATG does not appear in the sequence, return the empty string. Check your function against the following output:\n",
    "\n",
    "* translate(\"ATGAAAGGG\") = \"ATGAAAGGG\"\n",
    "* translate(\"AAAGTCCATGATAA\") = \"ATGATAA\"\n",
    "* translate(\"AGGTAA\") = \"\""
   ]
  },
  {
   "cell_type": "code",
   "execution_count": null,
   "metadata": {
    "collapsed": false
   },
   "outputs": [],
   "source": [
    "def translate(sequence):\n",
    "    pass\n",
    "\n",
    "print(translate(\"ATGAAAGGG\"))\n",
    "print(translate(\"AAAGTCCATGAAA\"))\n",
    "print(translate(\"AGGTAA\"))"
   ]
  },
  {
   "cell_type": "markdown",
   "metadata": {},
   "source": [
    "To be more biologically accurate, modify your code above so that any Ts in the returned sequence are changed to Us.\n",
    "\n",
    "* translate(\"ATGAAAGGG\") = \"AUGAAAGGG\"\n",
    "* translate(\"AAAGTCCATGATAA\") = \"AUGAUAA\"\n",
    "* translate(\"AGGTAA\") = \"\""
   ]
  },
  {
   "cell_type": "markdown",
   "metadata": {},
   "source": [
    "### How to Submit Code\n",
    "\n",
    "Best options include:\n",
    "\n",
    "* Adding code blocks inline in Latex using something like (https://en.wikibooks.org/wiki/LaTeX/Source_Code_Listings).\n",
    "* Submitting code or notebook files directly to Stellar (Stellar allows multiple files to be submitted - if you do this, make sure that everything is named and properly cited in your writeup).\n",
    "\n",
    "Other acceptable options include copy/pasting your code directly into your writeup.\n",
    "\n",
    "Please make sure your code is clean/commented before submitting!"
   ]
  },
  {
   "cell_type": "markdown",
   "metadata": {},
   "source": [
    "### Beyond The Scope Of Today's Tutorial\n",
    "\n",
    "but still useful to know...\n",
    "\n",
    "##### Classes: \n",
    "\n",
    "https://docs.python.org/3/tutorial/classes.html\n",
    "\n",
    "Useful for when you are working with a data type that requires more individual methods than what is available for dictionaries, lists, etc. For example, how would you implement a tree?\n",
    "\n",
    "##### Recursion: \n",
    "\n",
    "https://www.python-course.eu/recursive_functions.php\n",
    "\n",
    "Useful for when you are computing something that relies on a solution to the same problem but smaller. The link above discusses a recursive implementation of a Fibonacci function like the one we wrote today.\n",
    "\n",
    "##### List Comprehensions\n",
    "\n",
    "https://www.pythonforbeginners.com/basics/list-comprehensions-in-python\n",
    "\n",
    "Useful for making code cleaner/more concise."
   ]
  },
  {
   "cell_type": "code",
   "execution_count": null,
   "metadata": {
    "collapsed": true
   },
   "outputs": [],
   "source": []
  }
 ],
 "metadata": {
  "anaconda-cloud": {},
  "kernelspec": {
   "display_name": "Python [Root]",
   "language": "python",
   "name": "Python [Root]"
  },
  "language_info": {
   "codemirror_mode": {
    "name": "ipython",
    "version": 3
   },
   "file_extension": ".py",
   "mimetype": "text/x-python",
   "name": "python",
   "nbconvert_exporter": "python",
   "pygments_lexer": "ipython3",
   "version": "3.5.2"
  }
 },
 "nbformat": 4,
 "nbformat_minor": 0
}
